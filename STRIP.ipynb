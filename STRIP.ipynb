{
  "nbformat": 4,
  "nbformat_minor": 0,
  "metadata": {
    "colab": {
      "provenance": [],
      "collapsed_sections": [],
      "toc_visible": true,
      "authorship_tag": "ABX9TyPUrTu2FAO94XKMqkMSd2Du",
      "include_colab_link": true
    },
    "kernelspec": {
      "name": "python3",
      "display_name": "Python 3"
    },
    "language_info": {
      "name": "python"
    }
  },
  "cells": [
    {
      "cell_type": "markdown",
      "metadata": {
        "id": "view-in-github",
        "colab_type": "text"
      },
      "source": [
        "<a href=\"https://colab.research.google.com/github/samoliver3/capstone-STRIP-AI/blob/main/STRIP.ipynb\" target=\"_parent\"><img src=\"https://colab.research.google.com/assets/colab-badge.svg\" alt=\"Open In Colab\"/></a>"
      ]
    },
    {
      "cell_type": "markdown",
      "source": [
        "# Mayo Clinic STRIP AI: Predicting Stroke Etiology from Whole Slide Digital Pathology Images\n",
        "This notebook represents exploratory analysis and modeling for predicting ischemic stroke etiology.\n",
        "* Student name: Sam Oliver\n",
        "* Student pace: self-paced\n",
        "* Scheduled project review: \n",
        "* Instructor name: Abhineet Kulkarni"
      ],
      "metadata": {
        "id": "Vq5tZ7Lrh7Ai"
      }
    },
    {
      "cell_type": "markdown",
      "source": [
        "# Overview of This Project\n",
        "Stroke Thromboembolism Registery of Imaging and Pathology (STRIP) is a project run by the Mayo Clinic Neurovascular Lab across multiple centers with the following goal: histopathologic characterization of thromboemboli of various etiologies and examining clot composition and its relation to mechanical thrombectomy revascularization. This project will take advantage of resources collected by STRIP to predict stroke etiology (the origin of the stroke).\n",
        "## Description of the problem\n",
        "In the United States, over 700,000 people suffer an ischemic stroke every year, and stroke is the second most common cause of death in the world. Around 25% of people that have a stroke suffer one or more additional strokes. Identifying stroke etiology improves the likelihood of survival. \n",
        "## The dataset\n",
        "The data from this project will come from the Mayo Clinic and is also part of a Kaggle competition. This dataset comprises more than one-thousand digital pathology images representing a blood clot that has manifested from a patient that has suffered an acute ischemic stroke (AIS).\n",
        "## The stakeholder\n",
        "The stakeholder is the Mayo Clinic, which is offering cash rewards to the creators of the top five best-scoring entries according to a scoring algorithm. The Mayo Clinic is asking for entries to classify images into one of the two major AIS categories for each image in a test set. These two major categories include Cardioembolic (CE) strokes and Large Artery Atherosclerosis (LAA) strokes.\n",
        "## The evaluation algorithm\n",
        "The evaluation algorithm is a weighted multi-class logarithmic loss that produces an effect of placing equal importance on each category for the final score."
      ],
      "metadata": {
        "id": "s7c4fY7gjG22"
      }
    },
    {
      "cell_type": "code",
      "source": [],
      "metadata": {
        "id": "nYX7YRywi_5U"
      },
      "execution_count": null,
      "outputs": []
    }
  ]
}